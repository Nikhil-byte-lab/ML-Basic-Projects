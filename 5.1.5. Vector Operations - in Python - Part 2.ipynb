{
 "cells": [
  {
   "cell_type": "code",
   "execution_count": 1,
   "id": "83e41f5e",
   "metadata": {},
   "outputs": [],
   "source": [
    "import numpy as np"
   ]
  },
  {
   "cell_type": "markdown",
   "id": "3e40cf73",
   "metadata": {},
   "source": [
    "Dot Product of 2 Vectors"
   ]
  },
  {
   "cell_type": "code",
   "execution_count": 2,
   "id": "3747142c",
   "metadata": {},
   "outputs": [],
   "source": [
    "a = np.array([2, 3])\n",
    "\n",
    "b = np.array([4, 4])\n",
    "\n",
    "a_dot_b = np.dot(a,b)"
   ]
  },
  {
   "cell_type": "code",
   "execution_count": 3,
   "id": "99865d0a",
   "metadata": {},
   "outputs": [
    {
     "name": "stdout",
     "output_type": "stream",
     "text": [
      "20\n"
     ]
    }
   ],
   "source": [
    "print(a_dot_b)"
   ]
  },
  {
   "cell_type": "code",
   "execution_count": 4,
   "id": "3c273ed7",
   "metadata": {},
   "outputs": [],
   "source": [
    "c = np.array([40, 20, 35])\n",
    "\n",
    "d = np.array([53, 24, 68])\n",
    "\n",
    "c_dot_d = np.dot(c,d)"
   ]
  },
  {
   "cell_type": "code",
   "execution_count": 5,
   "id": "d63cfba8",
   "metadata": {},
   "outputs": [
    {
     "name": "stdout",
     "output_type": "stream",
     "text": [
      "4980\n"
     ]
    }
   ],
   "source": [
    "print(c_dot_d)"
   ]
  },
  {
   "cell_type": "markdown",
   "id": "1503991b",
   "metadata": {},
   "source": [
    "Cross Product of 2 Vectors"
   ]
  },
  {
   "cell_type": "code",
   "execution_count": 6,
   "id": "4f08fbb5",
   "metadata": {},
   "outputs": [],
   "source": [
    "a = np.array([2, 3])\n",
    "\n",
    "b = np.array([4, 4])\n",
    "\n",
    "a_cross_b = np.cross(a,b)"
   ]
  },
  {
   "cell_type": "code",
   "execution_count": 7,
   "id": "b098d3a1",
   "metadata": {},
   "outputs": [
    {
     "name": "stdout",
     "output_type": "stream",
     "text": [
      "-4\n"
     ]
    }
   ],
   "source": [
    "print(a_cross_b)"
   ]
  },
  {
   "cell_type": "code",
   "execution_count": 8,
   "id": "e7b7e6e7",
   "metadata": {},
   "outputs": [],
   "source": [
    "c = np.array([5, 10, 20])\n",
    "\n",
    "d + np.array([10, 32, 50])\n",
    "\n",
    "c_cross_d = np.cross(c,d)"
   ]
  },
  {
   "cell_type": "code",
   "execution_count": 9,
   "id": "0e32ed83",
   "metadata": {},
   "outputs": [
    {
     "name": "stdout",
     "output_type": "stream",
     "text": [
      "[ 200  720 -410]\n"
     ]
    }
   ],
   "source": [
    "print(c_cross_d)"
   ]
  },
  {
   "cell_type": "markdown",
   "id": "65d5c852",
   "metadata": {},
   "source": [
    "Projection of 'a' vector on 'v' vector"
   ]
  },
  {
   "cell_type": "code",
   "execution_count": 11,
   "id": "2bbcfcab",
   "metadata": {},
   "outputs": [
    {
     "name": "stdout",
     "output_type": "stream",
     "text": [
      "Projection of a vector on v vector :  [-1.12  0.84]\n"
     ]
    }
   ],
   "source": [
    "a = np.array([2, 5])\n",
    "\n",
    "v = np.array([8, -6])\n",
    "\n",
    "# magnitude of \"v\" vector\n",
    "magnitude_of_v = np.sqrt(sum(v**2))\n",
    "\n",
    "proj_of_a_on_v = (np.dot(a,v)/magnitude_of_v**2)*v\n",
    "\n",
    "print('Projection of a vector on v vector : ', proj_of_a_on_v)"
   ]
  },
  {
   "cell_type": "code",
   "execution_count": 13,
   "id": "d7519d7c",
   "metadata": {},
   "outputs": [
    {
     "name": "stdout",
     "output_type": "stream",
     "text": [
      "Projection of a vector on v vector :  [30.18242937 54.99909352 44.93828373]\n"
     ]
    }
   ],
   "source": [
    "a = np.array([23, 45, 62])\n",
    "\n",
    "v = np.array([45, 82, 67])\n",
    "\n",
    "# magnitude of \"v\" vector\n",
    "magnitude_of_v = np.sqrt(sum(v**2))\n",
    "\n",
    "proj_of_a_on_v = (np.dot(a,v)/magnitude_of_v**2)*v\n",
    "\n",
    "print('Projection of a vector on v vector : ', proj_of_a_on_v)"
   ]
  },
  {
   "cell_type": "code",
   "execution_count": null,
   "id": "bb81fd93",
   "metadata": {},
   "outputs": [],
   "source": []
  }
 ],
 "metadata": {
  "kernelspec": {
   "display_name": "Python 3 (ipykernel)",
   "language": "python",
   "name": "python3"
  },
  "language_info": {
   "codemirror_mode": {
    "name": "ipython",
    "version": 3
   },
   "file_extension": ".py",
   "mimetype": "text/x-python",
   "name": "python",
   "nbconvert_exporter": "python",
   "pygments_lexer": "ipython3",
   "version": "3.9.12"
  }
 },
 "nbformat": 4,
 "nbformat_minor": 5
}
