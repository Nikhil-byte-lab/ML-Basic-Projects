{
 "cells": [
  {
   "cell_type": "markdown",
   "id": "4157c764",
   "metadata": {},
   "source": [
    "Importing Numpy Library"
   ]
  },
  {
   "cell_type": "code",
   "execution_count": 1,
   "id": "cb9c8cf6",
   "metadata": {},
   "outputs": [],
   "source": [
    "import numpy as np"
   ]
  },
  {
   "cell_type": "markdown",
   "id": "0cf0649f",
   "metadata": {},
   "source": [
    "# Matrix Addition"
   ]
  },
  {
   "cell_type": "markdown",
   "id": "907d02b7",
   "metadata": {},
   "source": [
    "Two Matrices can be added only if they have the same shpe"
   ]
  },
  {
   "cell_type": "code",
   "execution_count": 2,
   "id": "4d6d99e6",
   "metadata": {},
   "outputs": [],
   "source": [
    "# creating two matrices\n",
    "\n",
    "A = np.array([[2,3],[4,5]])\n",
    "\n",
    "B = np.array([[6,7],[8,9]])"
   ]
  },
  {
   "cell_type": "code",
   "execution_count": 3,
   "id": "91d201bb",
   "metadata": {},
   "outputs": [
    {
     "name": "stdout",
     "output_type": "stream",
     "text": [
      "[[2 3]\n",
      " [4 5]]\n"
     ]
    }
   ],
   "source": [
    "print(A)"
   ]
  },
  {
   "cell_type": "code",
   "execution_count": 4,
   "id": "1032acca",
   "metadata": {},
   "outputs": [
    {
     "name": "stdout",
     "output_type": "stream",
     "text": [
      "[[6 7]\n",
      " [8 9]]\n"
     ]
    }
   ],
   "source": [
    "print(B)"
   ]
  },
  {
   "cell_type": "code",
   "execution_count": 5,
   "id": "ab71c00c",
   "metadata": {},
   "outputs": [
    {
     "data": {
      "text/plain": [
       "(2, 2)"
      ]
     },
     "execution_count": 5,
     "metadata": {},
     "output_type": "execute_result"
    }
   ],
   "source": [
    "A.shape"
   ]
  },
  {
   "cell_type": "code",
   "execution_count": 6,
   "id": "37624e90",
   "metadata": {},
   "outputs": [
    {
     "data": {
      "text/plain": [
       "(2, 2)"
      ]
     },
     "execution_count": 6,
     "metadata": {},
     "output_type": "execute_result"
    }
   ],
   "source": [
    "B.shape"
   ]
  },
  {
   "cell_type": "markdown",
   "id": "375c203a",
   "metadata": {},
   "source": [
    "Adding two Matrices"
   ]
  },
  {
   "cell_type": "code",
   "execution_count": 7,
   "id": "bc5614e0",
   "metadata": {},
   "outputs": [],
   "source": [
    "sum = A + B"
   ]
  },
  {
   "cell_type": "code",
   "execution_count": 8,
   "id": "03df0f77",
   "metadata": {},
   "outputs": [
    {
     "name": "stdout",
     "output_type": "stream",
     "text": [
      "[[ 8 10]\n",
      " [12 14]]\n"
     ]
    }
   ],
   "source": [
    "print(sum)"
   ]
  },
  {
   "cell_type": "code",
   "execution_count": 10,
   "id": "94e2f59d",
   "metadata": {},
   "outputs": [],
   "source": [
    "# create two metrices with random values\n",
    "matrix_1 = np.random.randint(10, size=(3,3))\n",
    "matrix_2 = np.random.randint(20, size=(3,3))"
   ]
  },
  {
   "cell_type": "code",
   "execution_count": 11,
   "id": "3bcb5a99",
   "metadata": {},
   "outputs": [
    {
     "name": "stdout",
     "output_type": "stream",
     "text": [
      "[[8 2 0]\n",
      " [1 8 2]\n",
      " [6 5 3]]\n"
     ]
    }
   ],
   "source": [
    "print(matrix_1)"
   ]
  },
  {
   "cell_type": "code",
   "execution_count": 12,
   "id": "b39e7839",
   "metadata": {},
   "outputs": [
    {
     "name": "stdout",
     "output_type": "stream",
     "text": [
      "[[ 1 18 12]\n",
      " [10  1  1]\n",
      " [17 12  3]]\n"
     ]
    }
   ],
   "source": [
    "print(matrix_2)"
   ]
  },
  {
   "cell_type": "code",
   "execution_count": 13,
   "id": "35a33433",
   "metadata": {},
   "outputs": [],
   "source": [
    "sum = np.add(matrix_1,matrix_2)"
   ]
  },
  {
   "cell_type": "code",
   "execution_count": 14,
   "id": "b531e71f",
   "metadata": {},
   "outputs": [
    {
     "name": "stdout",
     "output_type": "stream",
     "text": [
      "[[ 9 20 12]\n",
      " [11  9  3]\n",
      " [23 17  6]]\n"
     ]
    }
   ],
   "source": [
    "print(sum)"
   ]
  },
  {
   "cell_type": "code",
   "execution_count": 17,
   "id": "ef38d088",
   "metadata": {},
   "outputs": [],
   "source": [
    "# create two metrices with random values\n",
    "matrix_3 = np.random.randint(10, size=(3,3))\n",
    "matrix_4 = np.random.randint(20, size=(3,4))"
   ]
  },
  {
   "cell_type": "code",
   "execution_count": 18,
   "id": "5b04f556",
   "metadata": {},
   "outputs": [
    {
     "ename": "ValueError",
     "evalue": "operands could not be broadcast together with shapes (3,3) (3,4) ",
     "output_type": "error",
     "traceback": [
      "\u001b[1;31m---------------------------------------------------------------------------\u001b[0m",
      "\u001b[1;31mValueError\u001b[0m                                Traceback (most recent call last)",
      "Input \u001b[1;32mIn [18]\u001b[0m, in \u001b[0;36m<cell line: 1>\u001b[1;34m()\u001b[0m\n\u001b[1;32m----> 1\u001b[0m sum_2 \u001b[38;5;241m=\u001b[39m \u001b[43mnp\u001b[49m\u001b[38;5;241;43m.\u001b[39;49m\u001b[43madd\u001b[49m\u001b[43m(\u001b[49m\u001b[43mmatrix_3\u001b[49m\u001b[43m,\u001b[49m\u001b[43mmatrix_4\u001b[49m\u001b[43m)\u001b[49m\n",
      "\u001b[1;31mValueError\u001b[0m: operands could not be broadcast together with shapes (3,3) (3,4) "
     ]
    }
   ],
   "source": [
    "sum_2 = np.add(matrix_3,matrix_4)"
   ]
  },
  {
   "cell_type": "markdown",
   "id": "23f2e7ce",
   "metadata": {},
   "source": [
    "We get this error because shape of matrix_3 and matrix_4 are different\n",
    "\n",
    "Matrix Subtraction"
   ]
  },
  {
   "cell_type": "code",
   "execution_count": 19,
   "id": "73874e52",
   "metadata": {},
   "outputs": [],
   "source": [
    "# creating two matrices\n",
    "\n",
    "A = np.array([[2,3],[4,5]])\n",
    "\n",
    "B = np.array([[6,7],[8,9]])"
   ]
  },
  {
   "cell_type": "code",
   "execution_count": 21,
   "id": "fdb91a2b",
   "metadata": {},
   "outputs": [
    {
     "name": "stdout",
     "output_type": "stream",
     "text": [
      "[[2 3]\n",
      " [4 5]]\n"
     ]
    }
   ],
   "source": [
    "print(A)"
   ]
  },
  {
   "cell_type": "code",
   "execution_count": 22,
   "id": "8b127dbd",
   "metadata": {},
   "outputs": [
    {
     "name": "stdout",
     "output_type": "stream",
     "text": [
      "[[6 7]\n",
      " [8 9]]\n"
     ]
    }
   ],
   "source": [
    "print(B)"
   ]
  },
  {
   "cell_type": "code",
   "execution_count": 20,
   "id": "c88c717a",
   "metadata": {},
   "outputs": [],
   "source": [
    "difference = A - B"
   ]
  },
  {
   "cell_type": "code",
   "execution_count": 23,
   "id": "9e86f327",
   "metadata": {},
   "outputs": [
    {
     "name": "stdout",
     "output_type": "stream",
     "text": [
      "[[-4 -4]\n",
      " [-4 -4]]\n"
     ]
    }
   ],
   "source": [
    "print(difference)"
   ]
  },
  {
   "cell_type": "code",
   "execution_count": 24,
   "id": "42301379",
   "metadata": {},
   "outputs": [],
   "source": [
    "# create two metrices with random values\n",
    "matrix_1 = np.random.randint(10, size=(3,3))\n",
    "matrix_2 = np.random.randint(20, size=(3,3))"
   ]
  },
  {
   "cell_type": "code",
   "execution_count": 25,
   "id": "2b7c27e3",
   "metadata": {},
   "outputs": [
    {
     "name": "stdout",
     "output_type": "stream",
     "text": [
      "[[0 0 6]\n",
      " [2 9 6]\n",
      " [3 9 4]]\n"
     ]
    }
   ],
   "source": [
    "print(matrix_1)"
   ]
  },
  {
   "cell_type": "code",
   "execution_count": 26,
   "id": "8e22c586",
   "metadata": {},
   "outputs": [
    {
     "name": "stdout",
     "output_type": "stream",
     "text": [
      "[[19 12 12]\n",
      " [15 13  7]\n",
      " [ 7  8  9]]\n"
     ]
    }
   ],
   "source": [
    "print(matrix_2)"
   ]
  },
  {
   "cell_type": "code",
   "execution_count": 27,
   "id": "9f84afc1",
   "metadata": {},
   "outputs": [],
   "source": [
    "diff = np.subtract(matrix_1, matrix_2)"
   ]
  },
  {
   "cell_type": "code",
   "execution_count": 28,
   "id": "d531c826",
   "metadata": {},
   "outputs": [
    {
     "name": "stdout",
     "output_type": "stream",
     "text": [
      "[[-19 -12  -6]\n",
      " [-13  -4  -1]\n",
      " [ -4   1  -5]]\n"
     ]
    }
   ],
   "source": [
    "print(diff)"
   ]
  },
  {
   "cell_type": "markdown",
   "id": "016fccd5",
   "metadata": {},
   "source": [
    "Multiplying a matrix by a scaler"
   ]
  },
  {
   "cell_type": "code",
   "execution_count": 30,
   "id": "19c12516",
   "metadata": {},
   "outputs": [
    {
     "name": "stdout",
     "output_type": "stream",
     "text": [
      "[[9 5 7 0]\n",
      " [5 5 6 6]\n",
      " [8 5 3 2]\n",
      " [7 5 4 0]]\n"
     ]
    }
   ],
   "source": [
    "x = 5\n",
    "y = np.random.randint(10, size=(4,4))\n",
    "\n",
    "print(y)"
   ]
  },
  {
   "cell_type": "code",
   "execution_count": 31,
   "id": "63284edc",
   "metadata": {},
   "outputs": [],
   "source": [
    "product = np.multiply(x,y)"
   ]
  },
  {
   "cell_type": "code",
   "execution_count": 32,
   "id": "de19152d",
   "metadata": {},
   "outputs": [
    {
     "name": "stdout",
     "output_type": "stream",
     "text": [
      "[[45 25 35  0]\n",
      " [25 25 30 30]\n",
      " [40 25 15 10]\n",
      " [35 25 20  0]]\n"
     ]
    }
   ],
   "source": [
    "print(product)"
   ]
  },
  {
   "cell_type": "markdown",
   "id": "8a4e010f",
   "metadata": {},
   "source": [
    "# Multiplying 2 Matrices"
   ]
  },
  {
   "cell_type": "code",
   "execution_count": 33,
   "id": "4e6b7a62",
   "metadata": {},
   "outputs": [],
   "source": [
    "# create two metrices with random values\n",
    "matrix_3 = np.random.randint(5, size=(3,3))\n",
    "matrix_4 = np.random.randint(5, size=(3,4))"
   ]
  },
  {
   "cell_type": "code",
   "execution_count": 34,
   "id": "d54d4744",
   "metadata": {},
   "outputs": [
    {
     "name": "stdout",
     "output_type": "stream",
     "text": [
      "[[1 4 1]\n",
      " [1 2 0]\n",
      " [3 2 1]]\n"
     ]
    }
   ],
   "source": [
    "print(matrix_3)"
   ]
  },
  {
   "cell_type": "code",
   "execution_count": 35,
   "id": "f15b5fbb",
   "metadata": {},
   "outputs": [
    {
     "name": "stdout",
     "output_type": "stream",
     "text": [
      "[[4 0 2 3]\n",
      " [2 3 2 0]\n",
      " [1 3 4 1]]\n"
     ]
    }
   ],
   "source": [
    "print(matrix_4)"
   ]
  },
  {
   "cell_type": "code",
   "execution_count": 37,
   "id": "16cdeb9f",
   "metadata": {},
   "outputs": [],
   "source": [
    "product = np.dot(matrix_3,matrix_4)"
   ]
  },
  {
   "cell_type": "code",
   "execution_count": 38,
   "id": "f4cde2e4",
   "metadata": {},
   "outputs": [
    {
     "name": "stdout",
     "output_type": "stream",
     "text": [
      "[[13 15 14  4]\n",
      " [ 8  6  6  3]\n",
      " [17  9 14 10]]\n"
     ]
    }
   ],
   "source": [
    "print(product)"
   ]
  },
  {
   "cell_type": "code",
   "execution_count": 46,
   "id": "2592545f",
   "metadata": {},
   "outputs": [
    {
     "data": {
      "text/plain": [
       "(3, 4)"
      ]
     },
     "execution_count": 46,
     "metadata": {},
     "output_type": "execute_result"
    }
   ],
   "source": [
    "product.shape"
   ]
  },
  {
   "cell_type": "code",
   "execution_count": 40,
   "id": "0b8a271a",
   "metadata": {},
   "outputs": [],
   "source": [
    "# create two metrices with random values\n",
    "matrix_3 = np.random.randint(5, size=(3,3))\n",
    "matrix_4 = np.random.randint(5, size=(4,4))"
   ]
  },
  {
   "cell_type": "code",
   "execution_count": 41,
   "id": "21e1e4f3",
   "metadata": {},
   "outputs": [
    {
     "ename": "ValueError",
     "evalue": "shapes (3,3) and (4,4) not aligned: 3 (dim 1) != 4 (dim 0)",
     "output_type": "error",
     "traceback": [
      "\u001b[1;31m---------------------------------------------------------------------------\u001b[0m",
      "\u001b[1;31mValueError\u001b[0m                                Traceback (most recent call last)",
      "Input \u001b[1;32mIn [41]\u001b[0m, in \u001b[0;36m<cell line: 1>\u001b[1;34m()\u001b[0m\n\u001b[1;32m----> 1\u001b[0m product \u001b[38;5;241m=\u001b[39m \u001b[43mnp\u001b[49m\u001b[38;5;241;43m.\u001b[39;49m\u001b[43mdot\u001b[49m\u001b[43m(\u001b[49m\u001b[43mmatrix_3\u001b[49m\u001b[43m,\u001b[49m\u001b[43mmatrix_4\u001b[49m\u001b[43m)\u001b[49m\n",
      "File \u001b[1;32m<__array_function__ internals>:5\u001b[0m, in \u001b[0;36mdot\u001b[1;34m(*args, **kwargs)\u001b[0m\n",
      "\u001b[1;31mValueError\u001b[0m: shapes (3,3) and (4,4) not aligned: 3 (dim 1) != 4 (dim 0)"
     ]
    }
   ],
   "source": [
    "product = np.dot(matrix_3,matrix_4)"
   ]
  },
  {
   "cell_type": "markdown",
   "id": "e54ac266",
   "metadata": {},
   "source": [
    "# Elements wise Matrix Multiplication"
   ]
  },
  {
   "cell_type": "code",
   "execution_count": 47,
   "id": "3d81118e",
   "metadata": {},
   "outputs": [],
   "source": [
    "# create two metrices with random values\n",
    "matrix_3 = np.random.randint(5, size=(3,3))\n",
    "matrix_4 = np.random.randint(5, size=(3,3))"
   ]
  },
  {
   "cell_type": "code",
   "execution_count": 48,
   "id": "b5738ee1",
   "metadata": {},
   "outputs": [
    {
     "name": "stdout",
     "output_type": "stream",
     "text": [
      "[[2 4 2]\n",
      " [2 0 0]\n",
      " [4 1 4]]\n"
     ]
    }
   ],
   "source": [
    "print(matrix_3)"
   ]
  },
  {
   "cell_type": "code",
   "execution_count": 49,
   "id": "a7b3444a",
   "metadata": {},
   "outputs": [
    {
     "name": "stdout",
     "output_type": "stream",
     "text": [
      "[[1 4 4]\n",
      " [1 2 2]\n",
      " [3 0 2]]\n"
     ]
    }
   ],
   "source": [
    "print(matrix_4)"
   ]
  },
  {
   "cell_type": "code",
   "execution_count": 50,
   "id": "a731a5b3",
   "metadata": {},
   "outputs": [],
   "source": [
    "product = np.multiply(matrix_3,matrix_4)"
   ]
  },
  {
   "cell_type": "code",
   "execution_count": 51,
   "id": "c921f717",
   "metadata": {},
   "outputs": [
    {
     "name": "stdout",
     "output_type": "stream",
     "text": [
      "[[ 2 16  8]\n",
      " [ 2  0  0]\n",
      " [12  0  8]]\n"
     ]
    }
   ],
   "source": [
    "print(product)"
   ]
  },
  {
   "cell_type": "code",
   "execution_count": 56,
   "id": "deca6cd1",
   "metadata": {},
   "outputs": [],
   "source": [
    "# create two metrices with random values\n",
    "matrix_3 = np.random.randint(5, size=(3,3))\n",
    "matrix_4 = np.random.randint(5, size=(3,4))"
   ]
  },
  {
   "cell_type": "code",
   "execution_count": 57,
   "id": "9ce1e60a",
   "metadata": {},
   "outputs": [
    {
     "ename": "ValueError",
     "evalue": "operands could not be broadcast together with shapes (3,3) (3,4) ",
     "output_type": "error",
     "traceback": [
      "\u001b[1;31m---------------------------------------------------------------------------\u001b[0m",
      "\u001b[1;31mValueError\u001b[0m                                Traceback (most recent call last)",
      "Input \u001b[1;32mIn [57]\u001b[0m, in \u001b[0;36m<cell line: 1>\u001b[1;34m()\u001b[0m\n\u001b[1;32m----> 1\u001b[0m product \u001b[38;5;241m=\u001b[39m \u001b[43mnp\u001b[49m\u001b[38;5;241;43m.\u001b[39;49m\u001b[43mmultiply\u001b[49m\u001b[43m(\u001b[49m\u001b[43mmatrix_3\u001b[49m\u001b[43m,\u001b[49m\u001b[43mmatrix_4\u001b[49m\u001b[43m)\u001b[49m\n",
      "\u001b[1;31mValueError\u001b[0m: operands could not be broadcast together with shapes (3,3) (3,4) "
     ]
    }
   ],
   "source": [
    "product = np.multiply(matrix_3,matrix_4)"
   ]
  },
  {
   "cell_type": "code",
   "execution_count": null,
   "id": "63c594f5",
   "metadata": {},
   "outputs": [],
   "source": []
  }
 ],
 "metadata": {
  "kernelspec": {
   "display_name": "Python 3 (ipykernel)",
   "language": "python",
   "name": "python3"
  },
  "language_info": {
   "codemirror_mode": {
    "name": "ipython",
    "version": 3
   },
   "file_extension": ".py",
   "mimetype": "text/x-python",
   "name": "python",
   "nbconvert_exporter": "python",
   "pygments_lexer": "ipython3",
   "version": "3.9.12"
  }
 },
 "nbformat": 4,
 "nbformat_minor": 5
}
